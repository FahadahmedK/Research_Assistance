{
 "cells": [
  {
   "cell_type": "code",
   "execution_count": 1,
   "id": "f9f621a8",
   "metadata": {},
   "outputs": [],
   "source": [
    "from selenium import webdriver\n",
    "from selenium.webdriver.chrome.options import Options\n",
    "from selenium.webdriver.support.ui import WebDriverWait\n",
    "from selenium.webdriver.support import expected_conditions as EC\n",
    "from selenium.webdriver.common.by import By\n",
    "from time import sleep\n",
    "import selenium\n",
    "import re\n",
    "import csv\n",
    "from urllib.request import urlopen\n",
    "from bs4 import BeautifulSoup\n",
    "#import org.openqa.selenium.WebElement\n",
    "from selenium.webdriver.common.by import By\n",
    "\n",
    "import pandas as pd\n",
    "import requests\n",
    "import time\n",
    "import os"
   ]
  },
  {
   "cell_type": "code",
   "execution_count": 2,
   "id": "cabb0cb0",
   "metadata": {},
   "outputs": [],
   "source": [
    "#url1 = 'http://www.studentsoftheworld.info/penpals/stats.php?Pays=POL'"
   ]
  },
  {
   "cell_type": "code",
   "execution_count": 3,
   "id": "09098843",
   "metadata": {},
   "outputs": [],
   "source": [
    "#openurl = urlopen(url1)\n",
    "#readurl = openurl.read()\n",
    "#decode = readurl.decode('utf-8')\n",
    "#soup = BeautifulSoup(decode, 'html.parser')"
   ]
  },
  {
   "cell_type": "code",
   "execution_count": 4,
   "id": "9b5ab00a",
   "metadata": {},
   "outputs": [],
   "source": [
    "#list_of_names = []\n",
    "#for i,names in enumerate(soup.find_all(class_ ='text2')):\n",
    "#    while i<11\n",
    "#    print(i, names.get_text())"
   ]
  },
  {
   "cell_type": "code",
   "execution_count": 5,
   "id": "ed8ca633",
   "metadata": {},
   "outputs": [
    {
     "name": "stderr",
     "output_type": "stream",
     "text": [
      "fatal: destination path 'Research_Assistance' already exists and is not an empty directory.\n"
     ]
    }
   ],
   "source": [
    "!git clone https://github.com/FahadahmedK/Research_Assistance"
   ]
  },
  {
   "cell_type": "code",
   "execution_count": 24,
   "id": "d020d84f",
   "metadata": {},
   "outputs": [],
   "source": [
    "os.chdir(os.path.join(os.getcwd(), 'Research_Assistance/Scraping Polish Names'))"
   ]
  },
  {
   "cell_type": "code",
   "execution_count": 7,
   "id": "1200f8e7",
   "metadata": {},
   "outputs": [
    {
     "data": {
      "text/plain": [
       "[['Julia'],\n",
       " ['Wiktoria'],\n",
       " ['Natalia'],\n",
       " ['Karolina'],\n",
       " ['Kasia'],\n",
       " ['Dominika'],\n",
       " ['Weronika'],\n",
       " ['Aleksandra'],\n",
       " ['Paulina'],\n",
       " ['Oliwia'],\n",
       " ['Ola'],\n",
       " ['Anna'],\n",
       " ['Magdalena'],\n",
       " ['Magda'],\n",
       " ['Agnieszka'],\n",
       " ['Klaudia'],\n",
       " ['Maria'],\n",
       " ['Martyna'],\n",
       " ['Maja'],\n",
       " ['Marta'],\n",
       " ['Agata'],\n",
       " ['Kinga'],\n",
       " ['Ania'],\n",
       " ['Alicja'],\n",
       " ['Monika'],\n",
       " ['Joanna'],\n",
       " ['Amelia'],\n",
       " ['Gosia'],\n",
       " ['Zuzia'],\n",
       " ['Emilia'],\n",
       " ['Patrycja'],\n",
       " ['Michalina'],\n",
       " ['Ada'],\n",
       " ['Ewa'],\n",
       " ['Milena'],\n",
       " ['Olga'],\n",
       " ['Basia'],\n",
       " ['Gabriela'],\n",
       " ['Marysia'],\n",
       " ['Victoria'],\n",
       " ['Zuzanna'],\n",
       " ['Aga'],\n",
       " ['Hania'],\n",
       " ['Izabela'],\n",
       " ['Nina'],\n",
       " ['Paula'],\n",
       " ['Dorota'],\n",
       " ['Sandra'],\n",
       " ['Justyna'],\n",
       " ['Zuza'],\n",
       " ['Kamila'],\n",
       " ['Kate'],\n",
       " ['Ula'],\n",
       " ['Jagoda'],\n",
       " ['Mary'],\n",
       " ['Lena'],\n",
       " ['Julka'],\n",
       " ['Olivia'],\n",
       " ['Nadia'],\n",
       " ['Nikola'],\n",
       " ['Zosia'],\n",
       " ['Amelka'],\n",
       " ['Sabina'],\n",
       " ['Hanna'],\n",
       " ['Eliza'],\n",
       " ['Katarzyna'],\n",
       " ['Sylwia'],\n",
       " ['Iza'],\n",
       " ['Aneta'],\n",
       " ['Diana'],\n",
       " ['Laura'],\n",
       " ['Claudia'],\n",
       " ['Daria'],\n",
       " ['Alexandra'],\n",
       " ['Sara'],\n",
       " ['Natalie'],\n",
       " ['Iwona'],\n",
       " ['beata'],\n",
       " ['Emily'],\n",
       " ['Sonia'],\n",
       " ['Lila'],\n",
       " ['Angela'],\n",
       " ['Roksana'],\n",
       " ['Kaja'],\n",
       " ['Wera'],\n",
       " ['Ewelina'],\n",
       " ['Ilona'],\n",
       " ['Klara'],\n",
       " ['Mirella'],\n",
       " ['Jadzia'],\n",
       " ['Pola'],\n",
       " ['Karina'],\n",
       " ['Domi'],\n",
       " ['jessica'],\n",
       " ['Oli'],\n",
       " ['nika'],\n",
       " ['Karen'],\n",
       " ['Małgorzata'],\n",
       " ['Natalka'],\n",
       " ['Susan'],\n",
       " ['Bartek'],\n",
       " ['Kacper'],\n",
       " ['adam'],\n",
       " ['Mateusz'],\n",
       " ['Szymon'],\n",
       " ['Kamil'],\n",
       " ['Dawid'],\n",
       " ['Tomek'],\n",
       " ['Przemek'],\n",
       " ['Patryk'],\n",
       " ['Maciej'],\n",
       " ['Wojtek'],\n",
       " ['Antek'],\n",
       " ['Kuba'],\n",
       " ['Jakub'],\n",
       " ['Jan'],\n",
       " ['Sebastian'],\n",
       " ['dominik'],\n",
       " ['Adrian'],\n",
       " ['Piotr'],\n",
       " ['Max'],\n",
       " ['Marcin'],\n",
       " ['Maciek'],\n",
       " ['Karol'],\n",
       " ['Pawel'],\n",
       " ['Paweł'],\n",
       " ['Bartosz'],\n",
       " ['Marcel'],\n",
       " ['Igor'],\n",
       " ['Marek'],\n",
       " ['Chris'],\n",
       " ['Peter'],\n",
       " ['Łukasz'],\n",
       " ['michał'],\n",
       " ['Hubert'],\n",
       " ['Paweł'],\n",
       " ['Wojciech'],\n",
       " ['Oskar'],\n",
       " ['Michael'],\n",
       " ['Miłosz'],\n",
       " ['Darek'],\n",
       " ['Krzysztof'],\n",
       " ['Michal'],\n",
       " ['Stuart'],\n",
       " ['Konrad'],\n",
       " ['Matthew'],\n",
       " ['Tymon'],\n",
       " ['Krystian'],\n",
       " ['Filip'],\n",
       " ['Andrzej'],\n",
       " ['Paul'],\n",
       " ['Damian'],\n",
       " ['Casper'],\n",
       " ['Krzyś'],\n",
       " ['Micha'],\n",
       " ['Artur'],\n",
       " ['Stasiek'],\n",
       " ['Mariusz'],\n",
       " ['Pavel'],\n",
       " ['david'],\n",
       " ['michał'],\n",
       " ['Mikołaj'],\n",
       " ['Daniel'],\n",
       " ['Alessandro'],\n",
       " ['Simon'],\n",
       " ['Gustaw'],\n",
       " ['Wiktor'],\n",
       " ['Mark'],\n",
       " ['Łukasz'],\n",
       " ['Radek'],\n",
       " ['Eryk'],\n",
       " ['Jacek'],\n",
       " ['Tom'],\n",
       " ['Tomasz'],\n",
       " ['robert'],\n",
       " ['Milosz'],\n",
       " ['Ignacy'],\n",
       " ['Olaf'],\n",
       " ['Maksymilian'],\n",
       " ['Jerry'],\n",
       " ['Bart'],\n",
       " ['maslo'],\n",
       " ['MrKrzyZPL'],\n",
       " ['Power Master'],\n",
       " ['Milosh'],\n",
       " ['Cho'],\n",
       " ['Borys'],\n",
       " ['Mateusz, Kuba,Bartek'],\n",
       " ['Miłosz'],\n",
       " ['nikolaus'],\n",
       " ['Prayag'],\n",
       " ['bartek i olek'],\n",
       " ['Mikolaj'],\n",
       " ['Mick'],\n",
       " ['Judasz'],\n",
       " ['Jozef'],\n",
       " ['Rahul'],\n",
       " ['Mat.'],\n",
       " ['kotr0x'],\n",
       " ['Klaudia']]"
      ]
     },
     "execution_count": 7,
     "metadata": {},
     "output_type": "execute_result"
    }
   ],
   "source": [
    "list_of_names = pd.read_csv('polish_names.csv', header = None).values.tolist()"
   ]
  },
  {
   "cell_type": "code",
   "execution_count": 14,
   "id": "d1eab42b",
   "metadata": {},
   "outputs": [],
   "source": [
    "url2 = 'https://en.wikipedia.org/wiki/Greater_Poland_Voivodeship'"
   ]
  },
  {
   "cell_type": "code",
   "execution_count": 5,
   "id": "5052b1ba",
   "metadata": {},
   "outputs": [
    {
     "ename": "NameError",
     "evalue": "name 'urlopen' is not defined",
     "output_type": "error",
     "traceback": [
      "\u001b[1;31m---------------------------------------------------------------------------\u001b[0m",
      "\u001b[1;31mNameError\u001b[0m                                 Traceback (most recent call last)",
      "\u001b[1;32m<ipython-input-5-55bc6e0e2e2a>\u001b[0m in \u001b[0;36m<module>\u001b[1;34m\u001b[0m\n\u001b[1;32m----> 1\u001b[1;33m \u001b[0mopenurl\u001b[0m \u001b[1;33m=\u001b[0m \u001b[0murlopen\u001b[0m\u001b[1;33m(\u001b[0m\u001b[0murl2\u001b[0m\u001b[1;33m)\u001b[0m\u001b[1;33m\u001b[0m\u001b[1;33m\u001b[0m\u001b[0m\n\u001b[0m",
      "\u001b[1;31mNameError\u001b[0m: name 'urlopen' is not defined"
     ]
    }
   ],
   "source": [
    "openurl = urlopen(url2)"
   ]
  },
  {
   "cell_type": "code",
   "execution_count": 16,
   "id": "4cdf2543",
   "metadata": {},
   "outputs": [],
   "source": [
    "readurl = openurl.read().decode('utf-8')"
   ]
  },
  {
   "cell_type": "code",
   "execution_count": 17,
   "id": "00b93158",
   "metadata": {},
   "outputs": [],
   "source": [
    "soup = BeautifulSoup(readurl, 'html.parser')"
   ]
  },
  {
   "cell_type": "code",
   "execution_count": 18,
   "id": "190893cc",
   "metadata": {},
   "outputs": [],
   "source": [
    "mydivs = soup.find_all('div', class_ = 'div-col')"
   ]
  },
  {
   "cell_type": "code",
   "execution_count": 19,
   "id": "d4aaec57",
   "metadata": {},
   "outputs": [],
   "source": [
    "strings = []\n",
    "for li_tag in soup.find_all('li'):\n",
    "    #strings.append(li_tag.next_sibling)\n",
    "    strings.append(li_tag.get_text())"
   ]
  },
  {
   "cell_type": "code",
   "execution_count": 20,
   "id": "d1f7cc27",
   "metadata": {},
   "outputs": [],
   "source": [
    "places = strings[53:(53+113)]"
   ]
  },
  {
   "cell_type": "code",
   "execution_count": 21,
   "id": "a2479543",
   "metadata": {},
   "outputs": [],
   "source": [
    "for i in range(len(places)):\n",
    "    place = re.search('.* ' ,places[i]).group()\n",
    "    places[i] = place\n",
    "    \n",
    "    "
   ]
  },
  {
   "cell_type": "code",
   "execution_count": null,
   "id": "c09fa8e7",
   "metadata": {},
   "outputs": [],
   "source": []
  },
  {
   "cell_type": "code",
   "execution_count": 22,
   "id": "bbc5ad92",
   "metadata": {},
   "outputs": [],
   "source": [
    "url3 = f'http://www.basia.famula.pl/de/'"
   ]
  },
  {
   "cell_type": "code",
   "execution_count": 23,
   "id": "d95a183c",
   "metadata": {},
   "outputs": [],
   "source": [
    "option = Options()"
   ]
  },
  {
   "cell_type": "code",
   "execution_count": 24,
   "id": "24a93297",
   "metadata": {},
   "outputs": [],
   "source": [
    "option.headless = False"
   ]
  },
  {
   "cell_type": "code",
   "execution_count": 25,
   "id": "61a88610",
   "metadata": {},
   "outputs": [],
   "source": [
    "driver = webdriver.Chrome(options = option)"
   ]
  },
  {
   "cell_type": "code",
   "execution_count": 26,
   "id": "46d94781",
   "metadata": {},
   "outputs": [],
   "source": [
    "driver.get(url3)"
   ]
  },
  {
   "cell_type": "code",
   "execution_count": 27,
   "id": "947c2608",
   "metadata": {},
   "outputs": [],
   "source": [
    "adv_search = WebDriverWait(driver, 10).until(EC.element_to_be_clickable((By.XPATH, '/html/body/div[2]/div[1]/div/div[2]/a[1]')))"
   ]
  },
  {
   "cell_type": "code",
   "execution_count": 28,
   "id": "abfff970",
   "metadata": {},
   "outputs": [],
   "source": [
    "adv_search.click()"
   ]
  },
  {
   "cell_type": "code",
   "execution_count": 29,
   "id": "d445b4e9",
   "metadata": {},
   "outputs": [],
   "source": [
    "#first_name = WebDriverWait(driver, 5).until(EC.element_to_be_clickable((By.XPATH, '/html/body/div[2]/div[2]/form/div[1]/div[1]/div/div[2]/input')))"
   ]
  },
  {
   "cell_type": "code",
   "execution_count": 30,
   "id": "93a1c7fd",
   "metadata": {},
   "outputs": [],
   "source": [
    "#first_name.clear()\n",
    "#first_name.send_keys('Julia')"
   ]
  },
  {
   "cell_type": "code",
   "execution_count": 31,
   "id": "c3907b61",
   "metadata": {},
   "outputs": [],
   "source": [
    "relation = WebDriverWait(driver, 5).until(EC.element_to_be_clickable((By.XPATH, '/html/body/div[2]/div[2]/form/div[1]/div[1]/div/div[5]/select')))"
   ]
  },
  {
   "cell_type": "code",
   "execution_count": 32,
   "id": "fbacfbbc",
   "metadata": {},
   "outputs": [],
   "source": [
    "relation.click()\n",
    "relation.send_keys('Kind')"
   ]
  },
  {
   "cell_type": "code",
   "execution_count": 33,
   "id": "7548d719",
   "metadata": {},
   "outputs": [],
   "source": [
    "start_year = WebDriverWait(driver, 5).until(EC.element_to_be_clickable((By.XPATH, '/html/body/div[2]/div[2]/form/div[1]/div[2]/div[1]/input[1]')))"
   ]
  },
  {
   "cell_type": "code",
   "execution_count": 34,
   "id": "e2f5a368",
   "metadata": {},
   "outputs": [],
   "source": [
    "start_year.clear()\n",
    "start_year.send_keys('1870')"
   ]
  },
  {
   "cell_type": "code",
   "execution_count": 35,
   "id": "675d1fce",
   "metadata": {},
   "outputs": [],
   "source": [
    "end_year = WebDriverWait(driver, 5).until(EC.element_to_be_clickable((By.XPATH, '/html/body/div[2]/div[2]/form/div[1]/div[2]/div[1]/input[2]')))"
   ]
  },
  {
   "cell_type": "code",
   "execution_count": 36,
   "id": "d8effd0d",
   "metadata": {},
   "outputs": [],
   "source": [
    "end_year.clear()\n",
    "end_year.send_keys('1914')"
   ]
  },
  {
   "cell_type": "code",
   "execution_count": 37,
   "id": "eaee3721",
   "metadata": {},
   "outputs": [],
   "source": [
    "place_tab = WebDriverWait(driver, 5).until(EC.element_to_be_clickable((By.XPATH, '/html/body/div[2]/div[2]/form/div[1]/div[2]/p[1]/a' )))"
   ]
  },
  {
   "cell_type": "code",
   "execution_count": 38,
   "id": "1359d2bc",
   "metadata": {},
   "outputs": [],
   "source": [
    "place_tab.click()\n"
   ]
  },
  {
   "cell_type": "code",
   "execution_count": 39,
   "id": "29b47488",
   "metadata": {},
   "outputs": [],
   "source": [
    "#place_input = WebDriverWait(driver, 5).until(EC.element_to_be_clickable((By.XPATH, '/html/body/div[2]/div[2]/form/div[1]/div[2]/div[2]/div[1]/input')))"
   ]
  },
  {
   "cell_type": "code",
   "execution_count": 40,
   "id": "a95fcf0e",
   "metadata": {},
   "outputs": [],
   "source": [
    "#place_input.clear()\n",
    "#place_input.send_keys('Sroda')"
   ]
  },
  {
   "cell_type": "code",
   "execution_count": 41,
   "id": "1365dc64",
   "metadata": {},
   "outputs": [],
   "source": [
    "distance = WebDriverWait(driver, 5).until(EC.element_to_be_clickable((By.XPATH, '/html/body/div[2]/div[2]/form/div[1]/div[2]/div[2]/div[2]/input')))\n",
    "distance.clear()\n",
    "distance.send_keys('5')"
   ]
  },
  {
   "cell_type": "code",
   "execution_count": 42,
   "id": "fbd5eb0c",
   "metadata": {},
   "outputs": [],
   "source": [
    "doc_type = WebDriverWait(driver, 5).until(EC.element_to_be_clickable((By.XPATH, '/html/body/div[2]/div[2]/form/div[1]/div[2]/p[2]/a')))"
   ]
  },
  {
   "cell_type": "code",
   "execution_count": 43,
   "id": "c2157c39",
   "metadata": {},
   "outputs": [],
   "source": [
    "doc_type.click()"
   ]
  },
  {
   "cell_type": "code",
   "execution_count": 44,
   "id": "7a8f3430",
   "metadata": {},
   "outputs": [],
   "source": [
    "doc = WebDriverWait(driver, 5).until(EC.element_to_be_clickable((By.XPATH, '/html/body/div[2]/div[2]/form/div[1]/div[2]/div[3]/div[2]/select')))"
   ]
  },
  {
   "cell_type": "code",
   "execution_count": 45,
   "id": "3a14d8a3",
   "metadata": {},
   "outputs": [],
   "source": [
    "doc.click()\n",
    "doc.send_keys('Geburts')\n",
    "doc.click()"
   ]
  },
  {
   "cell_type": "code",
   "execution_count": 215,
   "id": "1acdebf7",
   "metadata": {},
   "outputs": [],
   "source": [
    "#button = WebDriverWait(driver, 5).until(EC.element_to_be_clickable((By.XPATH, '/html/body/div[2]/div[2]/form/div[2]/input[2]')))"
   ]
  },
  {
   "cell_type": "code",
   "execution_count": 216,
   "id": "79e25391",
   "metadata": {},
   "outputs": [],
   "source": [
    "#button.click()"
   ]
  },
  {
   "cell_type": "code",
   "execution_count": 217,
   "id": "c53a25fc",
   "metadata": {},
   "outputs": [],
   "source": [
    "#select_place = WebDriverWait(driver, 20).until(EC.element_to_be_clickable((By.XPATH, '/html/body/div[3]/div[1]/div[1]/div[2]/ul/li')))"
   ]
  },
  {
   "cell_type": "code",
   "execution_count": 218,
   "id": "0268f6e9",
   "metadata": {},
   "outputs": [],
   "source": [
    "#select_place.click()"
   ]
  },
  {
   "cell_type": "code",
   "execution_count": 219,
   "id": "baaec556",
   "metadata": {},
   "outputs": [],
   "source": [
    "#for string in driver.find_elements_by_xpath('//*[@class=\"result_box usca\"]'):\n",
    "#    print(string.text)\n",
    "#    print(re.search('ID.*', string.text).group()[3:])\n"
   ]
  },
  {
   "cell_type": "code",
   "execution_count": 220,
   "id": "98afe7fa",
   "metadata": {},
   "outputs": [],
   "source": [
    "#string = driver.find_element_by_xpath('//*[@class=\"result_box usca\"]').text\n",
    "#string\n"
   ]
  },
  {
   "cell_type": "code",
   "execution_count": 221,
   "id": "3ccfeecc",
   "metadata": {},
   "outputs": [],
   "source": [
    "#godparents = re.search('wurden:\\n.*\\n.*', string).group()[8:]\n",
    "#re.search('.*', godparents).group()\n",
    "#re.search('\\n.*', godparents).group()[1:]\n",
    "#re.search('Indexierers:\\n.*', string).group()"
   ]
  },
  {
   "cell_type": "code",
   "execution_count": 222,
   "id": "ebe37bcf",
   "metadata": {},
   "outputs": [],
   "source": [
    "#rows = [['name', 'parent_1', 'parent_2', 'year', 'place']]\n",
    "\n",
    "#for string in driver.find_elements_by_xpath('//*[@class=\"result_box usca\"]'):\n",
    "#    string = string.text\n",
    "#    name = re.search('\\n\\n.*?\\n', string).group()[2: len(re.search('\\n\\n.*?\\n', string).group())-1]\n",
    "#    parent_1 = re.search(':.*',re.search('Eltern.*?,', string).group()).group()[1: len(re.search(':.*',re.search('Eltern.*?,', string).group()).group())-1]\n",
    "#    parent_2 = re.search(',.*,',re.search(':.*,', string).group()).group()[1:len(re.search(',.*,',re.search(':.*,', string).group()).group())-1]\n",
    "#    year = re.search('Jahr.*?,', string).group()[4: len(re.search('Jahr.*?,', string).group())-1]\n",
    "#    place = re.search('.*? ',string).group()\n",
    "#    ls = [name, parent_1, parent_2, year,place]\n",
    "#    rows.append(ls)"
   ]
  },
  {
   "cell_type": "code",
   "execution_count": 223,
   "id": "ec42b8ed",
   "metadata": {},
   "outputs": [],
   "source": [
    "#with open('names.csv', 'w', newline='') as file:\n",
    "#    writer = csv.writer(file,  delimiter=',', quoting=csv.QUOTE_MINIMAL)\n",
    "#    writer.writerows(rows)"
   ]
  },
  {
   "cell_type": "code",
   "execution_count": 224,
   "id": "d8ffae8d",
   "metadata": {},
   "outputs": [],
   "source": [
    "#pd.read_csv('names.csv')"
   ]
  },
  {
   "cell_type": "code",
   "execution_count": 46,
   "id": "b9d90fe7",
   "metadata": {},
   "outputs": [],
   "source": [
    "list_places = places\n",
    "list_names = ['Julia', 'Wiktoria']\n",
    "rows = [['id', 'name', 'parent_1', 'parent_2', 'year', 'place','godparent_1','godparent_2', 'indexer_comment']]"
   ]
  },
  {
   "cell_type": "code",
   "execution_count": 47,
   "id": "36e48040",
   "metadata": {
    "scrolled": false
   },
   "outputs": [],
   "source": [
    "for i in list_names:\n",
    "    #try:\n",
    "    first_name = WebDriverWait(driver, 20).until(EC.element_to_be_clickable((By.XPATH, '/html/body/div[2]/div[2]/form/div[1]/div[1]/div/div[2]/input')))\n",
    "    first_name.clear()\n",
    "    first_name.send_keys(i)\n",
    "    #except:\n",
    "    #    None \n",
    "    for j in list_places:\n",
    "        place_input = WebDriverWait(driver, 10).until(EC.element_to_be_clickable((By.XPATH, '/html/body/div[2]/div[2]/form/div[1]/div[2]/div[2]/div[1]/input')))\n",
    "        place_input.clear()\n",
    "        place_input.send_keys(j)\n",
    "        button = WebDriverWait(driver, 10).until(EC.element_to_be_clickable((By.XPATH, '/html/body/div[2]/div[2]/form/div[2]/input[2]')))\n",
    "        button.click()\n",
    "        try:\n",
    "            select_place = WebDriverWait(driver, 10).until(EC.element_to_be_clickable((By.XPATH, '/html/body/div[3]/div[1]/div[1]/div[2]/ul/li')))\n",
    "            select_place.click()\n",
    "            time.sleep(10)\n",
    "            for string in driver.find_elements_by_xpath('//*[@class=\"result_box usca\"]'):\n",
    "                try:\n",
    "                    ID = re.search('ID.*',string.text).group()\n",
    "                    name = re.search('\\n\\n.*?\\n', string.text).group()[2: len(re.search('\\n\\n.*?\\n', string.text).group())-1]\n",
    "                    parent_1 = re.search(':.*',re.search('Eltern.*?,', string.text).group()).group()[1: len(re.search(':.*',re.search('Eltern.*?,', string.text).group()).group())-1]\n",
    "                    parent_2 = re.search(',.*,',re.search(':.*,', string.text).group()).group()[1:len(re.search(',.*,',re.search(':.*,', string.text).group()).group())-1]\n",
    "                    year = re.search('Jahr.*?,', string.text).group()[4: len(re.search('Jahr.*?,', string.text).group())-1]\n",
    "                    place = re.search('.*? ',string.text).group()\n",
    "                    try:\n",
    "                        godparents = re.search('wurden:\\n.*\\n.*', string.text).group()[8:]\n",
    "                        godparent1 = re.search('.*', godparents).group()\n",
    "                        godparent2 = re.search('\\n.*', godparents).group()[1:]\n",
    "                    except:\n",
    "                        godparent1 = ''\n",
    "                        godparent2 = ''\n",
    "\n",
    "                    try:\n",
    "                        indexer_comment = re.search('Indexierers:\\n.*', string.text).group()[13:]\n",
    "                    except: \n",
    "                        indexer_comment = ''\n",
    "                    ls = [ID, name, parent_1, parent_2, year,place, godparent1, godparent2, indexer_comment]\n",
    "                    #print(ls)\n",
    "                    rows.append(ls)\n",
    "                except:\n",
    "                    None\n",
    "        except:\n",
    "            pass"
   ]
  },
  {
   "cell_type": "code",
   "execution_count": 230,
   "id": "fd4f05d3",
   "metadata": {},
   "outputs": [],
   "source": [
    "driver.quit()\n",
    "with open('names.csv', 'w', newline='') as file:\n",
    "    writer = csv.writer(file,  delimiter=',', quoting=csv.QUOTE_MINIMAL)\n",
    "    writer.writerows(rows)"
   ]
  },
  {
   "cell_type": "code",
   "execution_count": 232,
   "id": "d103ab8b",
   "metadata": {},
   "outputs": [
    {
     "data": {
      "text/html": [
       "<div>\n",
       "<style scoped>\n",
       "    .dataframe tbody tr th:only-of-type {\n",
       "        vertical-align: middle;\n",
       "    }\n",
       "\n",
       "    .dataframe tbody tr th {\n",
       "        vertical-align: top;\n",
       "    }\n",
       "\n",
       "    .dataframe thead th {\n",
       "        text-align: right;\n",
       "    }\n",
       "</style>\n",
       "<table border=\"1\" class=\"dataframe\">\n",
       "  <thead>\n",
       "    <tr style=\"text-align: right;\">\n",
       "      <th></th>\n",
       "      <th>id</th>\n",
       "      <th>name</th>\n",
       "      <th>parent_1</th>\n",
       "      <th>parent_2</th>\n",
       "      <th>year</th>\n",
       "      <th>place</th>\n",
       "      <th>godparent_1</th>\n",
       "      <th>godparent_2</th>\n",
       "      <th>indexer_comment</th>\n",
       "    </tr>\n",
       "  </thead>\n",
       "  <tbody>\n",
       "    <tr>\n",
       "      <th>0</th>\n",
       "      <td>ID 5896029</td>\n",
       "      <td>Julianna Anna</td>\n",
       "      <td>Joannes Piłowski</td>\n",
       "      <td>Josepha Orwat</td>\n",
       "      <td>1874</td>\n",
       "      <td>Poznań</td>\n",
       "      <td>Ferdinand Falkenstein</td>\n",
       "      <td>Julianna Wiśniewska</td>\n",
       "      <td>NaN</td>\n",
       "    </tr>\n",
       "    <tr>\n",
       "      <th>1</th>\n",
       "      <td>ID 5896229</td>\n",
       "      <td>Julianna</td>\n",
       "      <td>Carolus Buchholz</td>\n",
       "      <td>Agnes Nowakowska</td>\n",
       "      <td>1874</td>\n",
       "      <td>Poznań</td>\n",
       "      <td>Philippus Włodarczyk</td>\n",
       "      <td>Rosalia Pawlicka</td>\n",
       "      <td>NaN</td>\n",
       "    </tr>\n",
       "    <tr>\n",
       "      <th>2</th>\n",
       "      <td>ID 5896271</td>\n",
       "      <td>Julianna</td>\n",
       "      <td>Antonius Maślona</td>\n",
       "      <td>Josepha Hajrusz</td>\n",
       "      <td>1874</td>\n",
       "      <td>Poznań</td>\n",
       "      <td>Josephus Simon</td>\n",
       "      <td>Antonina Hajdrowska</td>\n",
       "      <td>NaN</td>\n",
       "    </tr>\n",
       "    <tr>\n",
       "      <th>3</th>\n",
       "      <td>ID 5223231</td>\n",
       "      <td>Pauline Anna Julie</td>\n",
       "      <td>Joseph Pudelke</td>\n",
       "      <td>Julie Bober</td>\n",
       "      <td>1875</td>\n",
       "      <td>Poznań</td>\n",
       "      <td>NaN</td>\n",
       "      <td>NaN</td>\n",
       "      <td>NaN</td>\n",
       "    </tr>\n",
       "    <tr>\n",
       "      <th>4</th>\n",
       "      <td>ID 5223492</td>\n",
       "      <td>Julianna</td>\n",
       "      <td>Anton Aumüller</td>\n",
       "      <td>Antonina Szóstak</td>\n",
       "      <td>1875</td>\n",
       "      <td>Poznań</td>\n",
       "      <td>NaN</td>\n",
       "      <td>NaN</td>\n",
       "      <td>NaN</td>\n",
       "    </tr>\n",
       "    <tr>\n",
       "      <th>...</th>\n",
       "      <td>...</td>\n",
       "      <td>...</td>\n",
       "      <td>...</td>\n",
       "      <td>...</td>\n",
       "      <td>...</td>\n",
       "      <td>...</td>\n",
       "      <td>...</td>\n",
       "      <td>...</td>\n",
       "      <td>...</td>\n",
       "    </tr>\n",
       "    <tr>\n",
       "      <th>1795</th>\n",
       "      <td>ID 5892192</td>\n",
       "      <td>Julianna Antonie ( Antonina )</td>\n",
       "      <td>Stanislaus Pielucha ( Pieluszyński )</td>\n",
       "      <td>Julianna Czemplik</td>\n",
       "      <td>1910</td>\n",
       "      <td>Ostrzeszów</td>\n",
       "      <td>NaN</td>\n",
       "      <td>NaN</td>\n",
       "      <td>* 31-05-1910 Schildberg, Nr. 213</td>\n",
       "    </tr>\n",
       "    <tr>\n",
       "      <th>1796</th>\n",
       "      <td>ID 5892217</td>\n",
       "      <td>Julianna Viktoria</td>\n",
       "      <td>Roch Dlugaszewski</td>\n",
       "      <td>Maria Sobkiewicz</td>\n",
       "      <td>1910</td>\n",
       "      <td>Ostrzeszów</td>\n",
       "      <td>NaN</td>\n",
       "      <td>NaN</td>\n",
       "      <td>* 17-06-1910 Schildberg, Nr. 238</td>\n",
       "    </tr>\n",
       "    <tr>\n",
       "      <th>1797</th>\n",
       "      <td>ID 5892472</td>\n",
       "      <td>Julianna</td>\n",
       "      <td>Ignatz Biernat</td>\n",
       "      <td>Rosalie Kinastowska</td>\n",
       "      <td>1910</td>\n",
       "      <td>Ostrzeszów</td>\n",
       "      <td>NaN</td>\n",
       "      <td>NaN</td>\n",
       "      <td>* 08-12-1910 Schildberg, Nr. 492</td>\n",
       "    </tr>\n",
       "    <tr>\n",
       "      <th>1798</th>\n",
       "      <td>ID 5892502</td>\n",
       "      <td>Julianna</td>\n",
       "      <td>Józef Zieleziński</td>\n",
       "      <td>Zofia Kamola</td>\n",
       "      <td>1910</td>\n",
       "      <td>Ostrzeszów</td>\n",
       "      <td>NaN</td>\n",
       "      <td>NaN</td>\n",
       "      <td>Nr. 522</td>\n",
       "    </tr>\n",
       "    <tr>\n",
       "      <th>1799</th>\n",
       "      <td>ID 5901053</td>\n",
       "      <td>Julianna</td>\n",
       "      <td>Egidius Pilarczyk</td>\n",
       "      <td>Elisabeth Tomaszewska</td>\n",
       "      <td>1914</td>\n",
       "      <td>Ostrzeszów</td>\n",
       "      <td>NaN</td>\n",
       "      <td>NaN</td>\n",
       "      <td>* 22-02-1914 Schildberg, Nr. 70</td>\n",
       "    </tr>\n",
       "  </tbody>\n",
       "</table>\n",
       "<p>1800 rows × 9 columns</p>\n",
       "</div>"
      ],
      "text/plain": [
       "              id                           name  \\\n",
       "0     ID 5896029                  Julianna Anna   \n",
       "1     ID 5896229                       Julianna   \n",
       "2     ID 5896271                       Julianna   \n",
       "3     ID 5223231             Pauline Anna Julie   \n",
       "4     ID 5223492                       Julianna   \n",
       "...          ...                            ...   \n",
       "1795  ID 5892192  Julianna Antonie ( Antonina )   \n",
       "1796  ID 5892217              Julianna Viktoria   \n",
       "1797  ID 5892472                       Julianna   \n",
       "1798  ID 5892502                       Julianna   \n",
       "1799  ID 5901053                       Julianna   \n",
       "\n",
       "                                    parent_1                 parent_2  year  \\\n",
       "0                          Joannes Piłowski            Josepha Orwat   1874   \n",
       "1                          Carolus Buchholz         Agnes Nowakowska   1874   \n",
       "2                          Antonius Maślona          Josepha Hajrusz   1874   \n",
       "3                            Joseph Pudelke              Julie Bober   1875   \n",
       "4                            Anton Aumüller         Antonina Szóstak   1875   \n",
       "...                                      ...                      ...   ...   \n",
       "1795   Stanislaus Pielucha ( Pieluszyński )        Julianna Czemplik   1910   \n",
       "1796                      Roch Dlugaszewski         Maria Sobkiewicz   1910   \n",
       "1797                         Ignatz Biernat      Rosalie Kinastowska   1910   \n",
       "1798                      Józef Zieleziński             Zofia Kamola   1910   \n",
       "1799                      Egidius Pilarczyk    Elisabeth Tomaszewska   1914   \n",
       "\n",
       "            place            godparent_1          godparent_2  \\\n",
       "0         Poznań   Ferdinand Falkenstein  Julianna Wiśniewska   \n",
       "1         Poznań    Philippus Włodarczyk     Rosalia Pawlicka   \n",
       "2         Poznań          Josephus Simon  Antonina Hajdrowska   \n",
       "3         Poznań                     NaN                  NaN   \n",
       "4         Poznań                     NaN                  NaN   \n",
       "...           ...                    ...                  ...   \n",
       "1795  Ostrzeszów                     NaN                  NaN   \n",
       "1796  Ostrzeszów                     NaN                  NaN   \n",
       "1797  Ostrzeszów                     NaN                  NaN   \n",
       "1798  Ostrzeszów                     NaN                  NaN   \n",
       "1799  Ostrzeszów                     NaN                  NaN   \n",
       "\n",
       "                       indexer_comment  \n",
       "0                                  NaN  \n",
       "1                                  NaN  \n",
       "2                                  NaN  \n",
       "3                                  NaN  \n",
       "4                                  NaN  \n",
       "...                                ...  \n",
       "1795  * 31-05-1910 Schildberg, Nr. 213  \n",
       "1796  * 17-06-1910 Schildberg, Nr. 238  \n",
       "1797  * 08-12-1910 Schildberg, Nr. 492  \n",
       "1798                           Nr. 522  \n",
       "1799   * 22-02-1914 Schildberg, Nr. 70  \n",
       "\n",
       "[1800 rows x 9 columns]"
      ]
     },
     "execution_count": 232,
     "metadata": {},
     "output_type": "execute_result"
    }
   ],
   "source": [
    "pd.read_csv('names.csv')"
   ]
  },
  {
   "cell_type": "code",
   "execution_count": null,
   "id": "3cd88110",
   "metadata": {},
   "outputs": [],
   "source": []
  }
 ],
 "metadata": {
  "kernelspec": {
   "display_name": "Python 3",
   "language": "python",
   "name": "python3"
  },
  "language_info": {
   "codemirror_mode": {
    "name": "ipython",
    "version": 3
   },
   "file_extension": ".py",
   "mimetype": "text/x-python",
   "name": "python",
   "nbconvert_exporter": "python",
   "pygments_lexer": "ipython3",
   "version": "3.8.8"
  }
 },
 "nbformat": 4,
 "nbformat_minor": 5
}
