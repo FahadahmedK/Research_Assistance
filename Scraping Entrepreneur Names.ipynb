{
 "cells": [
  {
   "cell_type": "code",
   "execution_count": 17,
   "metadata": {},
   "outputs": [],
   "source": [
    "import re\n",
    "import numpy as np\n",
    "from urllib.request import urlopen\n",
    "from bs4 import BeautifulSoup\n",
    "import csv\n",
    "import os\n",
    "import pandas as pd"
   ]
  },
  {
   "cell_type": "code",
   "execution_count": 19,
   "metadata": {},
   "outputs": [],
   "source": [
    "url = 'https://www.heimat-der-vorfahren.de/index.php/Thread/6188-Selbst%C3%A4ndige-in-Berlin-1866/?pageNo=1'\n",
    "html = urlopen(url).read().decode('utf-8')\n",
    "soup = BeautifulSoup(html, 'html.parser')"
   ]
  },
  {
   "cell_type": "code",
   "execution_count": 20,
   "metadata": {},
   "outputs": [],
   "source": [
    "mydivs = soup.find_all('div', class_ = 'messageText')"
   ]
  },
  {
   "cell_type": "code",
   "execution_count": 21,
   "metadata": {},
   "outputs": [],
   "source": [
    "divs = mydivs.copy()[1:]"
   ]
  },
  {
   "cell_type": "code",
   "execution_count": 22,
   "metadata": {},
   "outputs": [],
   "source": [
    "strings = []\n",
    "for br_tag in soup.find_all('br'):\n",
    "    strings.append(br_tag.next_sibling)\n"
   ]
  },
  {
   "cell_type": "code",
   "execution_count": 23,
   "metadata": {},
   "outputs": [],
   "source": [
    "info = [k for k in strings[36:] if 'str' in k]\n",
    "#print(info)"
   ]
  },
  {
   "cell_type": "code",
   "execution_count": 24,
   "metadata": {},
   "outputs": [],
   "source": [
    "rows=[['Name1', 'Name2', 'Name3', 'Steet', 'Number', 'Full']]\n",
    "for string in info:\n",
    "    \n",
    "    try:\n",
    "        name = re.search('\\n.*?,',string).group()\n",
    "        name1_end_idx = re.search('\\n.*?,',string, re.IGNORECASE).group().index(',')\n",
    "        name1 = re.search('\\n.*?,', string).group()[1:len(re.search('\\n.*?,', string).group()[0:])-1]\n",
    "        try:\n",
    "            name2_end_idx = re.search(',.*?,', string, re.IGNORECASE).group()[1:].index(',') +1\n",
    "            name2 = re.search(',.*?,', string).group()[1:len(re.search(',.*?,', string).group()[0:])-1]\n",
    "            \n",
    "            try: \n",
    "                name3 = re.search(',.*?,',re.search(',.*,',string).group()[1:]).group()[1:len(re.search(',.*?,',re.search(',.*,',string).group()[1:]).group())-1]\n",
    "            except:\n",
    "                name3 = ''\n",
    "        except: \n",
    "            name2 = ''\n",
    "        \n",
    "        street_start_idx = len(re.search('\\n.*,',string, re.IGNORECASE).group())\n",
    "        street = re.search('.*?str',string[street_start_idx:]).group()\n",
    "        \n",
    "        no = re.search('str.*', string).group()[4:]\n",
    "        full = string[1:]\n",
    "        ls = [name1, name2, name3, street, no, full]\n",
    "        rows.append(ls)\n",
    "    except:\n",
    "        name1 = ''\n",
    "        name2 = ''\n",
    "        name3 = ''\n",
    "        street = ''\n",
    "        no = ''\n",
    "        ls = [name1, name2, name3, street, no, string]\n",
    "        \n",
    "    \n"
   ]
  },
  {
   "cell_type": "code",
   "execution_count": 34,
   "metadata": {},
   "outputs": [],
   "source": [
    "with open('entrepreneurs.csv', 'w', newline='') as file:\n",
    "    writer = csv.writer(file,  delimiter=',', quoting=csv.QUOTE_MINIMAL)\n",
    "    writer.writerows(rows)"
   ]
  },
  {
   "cell_type": "code",
   "execution_count": 30,
   "metadata": {},
   "outputs": [
    {
     "data": {
      "text/html": [
       "<div>\n",
       "<style scoped>\n",
       "    .dataframe tbody tr th:only-of-type {\n",
       "        vertical-align: middle;\n",
       "    }\n",
       "\n",
       "    .dataframe tbody tr th {\n",
       "        vertical-align: top;\n",
       "    }\n",
       "\n",
       "    .dataframe thead th {\n",
       "        text-align: right;\n",
       "    }\n",
       "</style>\n",
       "<table border=\"1\" class=\"dataframe\">\n",
       "  <thead>\n",
       "    <tr style=\"text-align: right;\">\n",
       "      <th></th>\n",
       "      <th>0</th>\n",
       "      <th>1</th>\n",
       "      <th>2</th>\n",
       "      <th>3</th>\n",
       "      <th>4</th>\n",
       "      <th>5</th>\n",
       "    </tr>\n",
       "  </thead>\n",
       "  <tbody>\n",
       "    <tr>\n",
       "      <th>0</th>\n",
       "      <td>Name1</td>\n",
       "      <td>Name2</td>\n",
       "      <td>Name3</td>\n",
       "      <td>Steet</td>\n",
       "      <td>Number</td>\n",
       "      <td>Full</td>\n",
       "    </tr>\n",
       "    <tr>\n",
       "      <th>1</th>\n",
       "      <td>Remme &amp; Friedmann</td>\n",
       "      <td></td>\n",
       "      <td></td>\n",
       "      <td>Alexanderstr</td>\n",
       "      <td>38a</td>\n",
       "      <td>Remme &amp; Friedmann, Alexanderstr. 38a</td>\n",
       "    </tr>\n",
       "    <tr>\n",
       "      <th>2</th>\n",
       "      <td>Roedel &amp; Vetter</td>\n",
       "      <td></td>\n",
       "      <td></td>\n",
       "      <td>Alexanderstr</td>\n",
       "      <td>12</td>\n",
       "      <td>Roedel &amp; Vetter, Alexanderstr. 12</td>\n",
       "    </tr>\n",
       "    <tr>\n",
       "      <th>3</th>\n",
       "      <td>Sachs</td>\n",
       "      <td>Heinrich</td>\n",
       "      <td></td>\n",
       "      <td>Alexanderstr</td>\n",
       "      <td>29</td>\n",
       "      <td>Sachs, Heinrich, Alexanderstr. 29</td>\n",
       "    </tr>\n",
       "    <tr>\n",
       "      <th>4</th>\n",
       "      <td>Fasquel</td>\n",
       "      <td>D.</td>\n",
       "      <td></td>\n",
       "      <td>Linienstr</td>\n",
       "      <td>119</td>\n",
       "      <td>Fasquel, D., Linienstr. 119</td>\n",
       "    </tr>\n",
       "  </tbody>\n",
       "</table>\n",
       "</div>"
      ],
      "text/plain": [
       "                   0          1      2              3       4  \\\n",
       "0              Name1      Name2  Name3          Steet  Number   \n",
       "1  Remme & Friedmann                     Alexanderstr     38a   \n",
       "2    Roedel & Vetter                     Alexanderstr      12   \n",
       "3              Sachs   Heinrich          Alexanderstr      29   \n",
       "4            Fasquel         D.             Linienstr     119   \n",
       "\n",
       "                                      5  \n",
       "0                                  Full  \n",
       "1  Remme & Friedmann, Alexanderstr. 38a  \n",
       "2     Roedel & Vetter, Alexanderstr. 12  \n",
       "3     Sachs, Heinrich, Alexanderstr. 29  \n",
       "4           Fasquel, D., Linienstr. 119  "
      ]
     },
     "execution_count": 30,
     "metadata": {},
     "output_type": "execute_result"
    }
   ],
   "source": [
    "#df = pd.DataFrame(rows)\n",
    "#df.head()"
   ]
  },
  {
   "cell_type": "code",
   "execution_count": null,
   "metadata": {},
   "outputs": [],
   "source": []
  }
 ],
 "metadata": {
  "kernelspec": {
   "display_name": "Python 3",
   "language": "python",
   "name": "python3"
  },
  "language_info": {
   "codemirror_mode": {
    "name": "ipython",
    "version": 3
   },
   "file_extension": ".py",
   "mimetype": "text/x-python",
   "name": "python",
   "nbconvert_exporter": "python",
   "pygments_lexer": "ipython3",
   "version": "3.8.8"
  }
 },
 "nbformat": 4,
 "nbformat_minor": 4
}
